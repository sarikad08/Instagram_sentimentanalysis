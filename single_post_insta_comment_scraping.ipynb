{
 "cells": [
  {
   "cell_type": "code",
   "execution_count": 1,
   "id": "db017694",
   "metadata": {},
   "outputs": [
    {
     "name": "stdout",
     "output_type": "stream",
     "text": [
      "Starting DataKund...\n"
     ]
    }
   ],
   "source": [
    "from scrape_instagram import *"
   ]
  },
  {
   "cell_type": "code",
   "execution_count": 2,
   "id": "badb4701",
   "metadata": {},
   "outputs": [
    {
     "name": "stderr",
     "output_type": "stream",
     "text": [
      "Exception in thread Thread-5:\n",
      "Traceback (most recent call last):\n",
      "  File \"C:\\Users\\sarika\\anaconda3\\lib\\threading.py\", line 980, in _bootstrap_inner\n",
      "    self.run()\n",
      "  File \"C:\\Users\\sarika\\anaconda3\\lib\\threading.py\", line 1306, in run\n",
      "    self.function(*self.args, **self.kwargs)\n",
      "  File \"C:\\Users\\sarika\\anaconda3\\lib\\site-packages\\bot_studio\\Progress.py\", line 25, in show_progress\n",
      "    with tqdm(total=200, desc=\"Progress\") as progress:\n",
      "  File \"C:\\Users\\sarika\\anaconda3\\lib\\site-packages\\tqdm\\_tqdm.py\", line 383, in __new__\n",
      "    cls.monitor = TMonitor(cls, cls.monitor_interval)\n",
      "  File \"C:\\Users\\sarika\\anaconda3\\lib\\site-packages\\tqdm\\_tqdm.py\", line 68, in __init__\n",
      "    getattr(sys, 'setcheckinterval'))(100)\n",
      "AttributeError: module 'sys' has no attribute 'setcheckinterval'\n",
      "Exception ignored in: <function tqdm.__del__ at 0x000001C455B9E430>\n",
      "Traceback (most recent call last):\n",
      "  File \"C:\\Users\\sarika\\anaconda3\\lib\\site-packages\\tqdm\\_tqdm.py\", line 764, in __del__\n",
      "    self.close()\n",
      "  File \"C:\\Users\\sarika\\anaconda3\\lib\\site-packages\\tqdm\\_tqdm.py\", line 994, in close\n",
      "    if self.disable:\n",
      "AttributeError: 'tqdm' object has no attribute 'disable'\n"
     ]
    },
    {
     "name": "stdout",
     "output_type": "stream",
     "text": [
      "{'body': {'bio': 'रामनवमी शोभा यात्रा पुणे', 'followed_by': '50', 'followers': '', 'following': '', 'posts': '50', 'profile_name': 'ramnavami_pune'}, 'errors': [], 'resume_variable': '0', 'success_score': '100', 'resume_dict': {}}\n"
     ]
    }
   ],
   "source": [
    "# Scrape profile data\n",
    "profile_response = instagram.profile_scraper(profile_link=\"https://www.instagram.com/ramnavami_pune/\")\n",
    "print(profile_response)"
   ]
  },
  {
   "cell_type": "code",
   "execution_count": 4,
   "id": "4f52c808",
   "metadata": {},
   "outputs": [
    {
     "name": "stderr",
     "output_type": "stream",
     "text": [
      "Exception in thread Thread-7:\n",
      "Traceback (most recent call last):\n",
      "  File \"C:\\Users\\sarika\\anaconda3\\lib\\threading.py\", line 980, in _bootstrap_inner\n",
      "    self.run()\n",
      "  File \"C:\\Users\\sarika\\anaconda3\\lib\\threading.py\", line 1306, in run\n",
      "    self.function(*self.args, **self.kwargs)\n",
      "  File \"C:\\Users\\sarika\\anaconda3\\lib\\site-packages\\bot_studio\\Progress.py\", line 25, in show_progress\n",
      "    with tqdm(total=200, desc=\"Progress\") as progress:\n",
      "  File \"C:\\Users\\sarika\\anaconda3\\lib\\site-packages\\tqdm\\_tqdm.py\", line 383, in __new__\n",
      "    cls.monitor = TMonitor(cls, cls.monitor_interval)\n",
      "  File \"C:\\Users\\sarika\\anaconda3\\lib\\site-packages\\tqdm\\_tqdm.py\", line 68, in __init__\n",
      "    getattr(sys, 'setcheckinterval'))(100)\n",
      "AttributeError: module 'sys' has no attribute 'setcheckinterval'\n",
      "Exception ignored in: <function tqdm.__del__ at 0x000001C455B9E430>\n",
      "Traceback (most recent call last):\n",
      "  File \"C:\\Users\\sarika\\anaconda3\\lib\\site-packages\\tqdm\\_tqdm.py\", line 764, in __del__\n",
      "    self.close()\n",
      "  File \"C:\\Users\\sarika\\anaconda3\\lib\\site-packages\\tqdm\\_tqdm.py\", line 994, in close\n",
      "    if self.disable:\n",
      "AttributeError: 'tqdm' object has no attribute 'disable'\n"
     ]
    },
    {
     "name": "stdout",
     "output_type": "stream",
     "text": [
      "{'body': [{'comment': 'Joy Shree Ram', 'title': 'styloking997'}, {'comment': 'Jay shree Ram 🙏❤️', 'title': 'rameshbehera5667'}, {'comment': 'Jay Shree Ram ❤️❤️', 'title': 'its_mr_silent_killer'}, {'comment': '🔥🔥🔥', 'title': 'its_mr_silent_killer'}, {'comment': 'JAI SHREE RAM 🥀🥀🥀🙏🚩🚩🚩🙏🙏🙏', 'title': 'krishna_kumar.200726'}, {'comment': '❤️❤️❤️❤️❤️❤️❤️❤️❤️❤️❤️❤️❤️❤️❤️❤️❤️jai shree ram', 'title': '_subham_02'}, {'comment': 'Jay shree Ram ❤️', 'title': 'my_love_kanaji_'}, {'comment': 'Jai shree ram ji', 'title': 'thakur_anil_rathore_'}, {'comment': 'Jai shree ram 🙏🙏', 'title': 'introvert_girl_109'}, {'comment': 'Jay shree ram', 'title': 'getuu__patel_official_09'}], 'errors': [], 'resume_variable': 'n', 'success_score': '100', 'resume_dict': {}}\n"
     ]
    }
   ],
   "source": [
    "# Scrape comment data\n",
    "comment_response = instagram.comment_scrape(url_link=\"https://www.instagram.com/p/CqPMC1Lj4Ql/\")\n",
    "print(comment_response)"
   ]
  },
  {
   "cell_type": "code",
   "execution_count": null,
   "id": "a6ccc30a",
   "metadata": {},
   "outputs": [],
   "source": [
    "import pandas as pd\n",
    "\n",
    "# Convert the data into a pandas DataFrame\n",
    "df = pd.DataFrame(comment_response['body'], columns=['comment', 'title'])\n",
    "\n",
    "# Write the DataFrame to an Excel file\n",
    "writer = pd.ExcelWriter('comment_response.xlsx', engine='xlsxwriter')\n",
    "df.to_excel(writer, sheet_name='Comments', index=False)\n",
    "writer.save()\n",
    "\n",
    "# Print a message to confirm that the data has been written to the file\n",
    "print('The comment data has been written to comment_response.xlsx')\n"
   ]
  },
  {
   "cell_type": "code",
   "execution_count": null,
   "id": "7ded6ef0",
   "metadata": {},
   "outputs": [],
   "source": [
    "# Import the pandas library\n",
    "#import pandas as pd\n",
    "\n",
    "# Convert the data into a pandas DataFrame\n",
    "#df = pd.DataFrame(comment_response['body'], columns=['comment', 'title'])\n",
    "\n",
    "# Write the DataFrame to a text file using UTF-8 encoding\n",
    "#with open('comment_response.txt', 'w', encoding='utf-8') as f:\n",
    "    #f.write(df.to_string(index=False))\n",
    "\n",
    "# Print a message to confirm that the data has been written to the file\n",
    "#print('The comment data has been written to comment_response.txt')\n"
   ]
  },
  {
   "cell_type": "code",
   "execution_count": null,
   "id": "e98b1bf6",
   "metadata": {},
   "outputs": [],
   "source": []
  },
  {
   "cell_type": "code",
   "execution_count": null,
   "id": "3027a63f",
   "metadata": {},
   "outputs": [],
   "source": [
    "\n"
   ]
  },
  {
   "cell_type": "code",
   "execution_count": null,
   "id": "32747895",
   "metadata": {},
   "outputs": [],
   "source": [
    "\n"
   ]
  },
  {
   "cell_type": "code",
   "execution_count": null,
   "id": "307b7741",
   "metadata": {},
   "outputs": [],
   "source": []
  },
  {
   "cell_type": "code",
   "execution_count": null,
   "id": "2c4cef56",
   "metadata": {},
   "outputs": [],
   "source": [
    "\n"
   ]
  },
  {
   "cell_type": "code",
   "execution_count": null,
   "id": "9fabd143",
   "metadata": {},
   "outputs": [],
   "source": []
  },
  {
   "cell_type": "code",
   "execution_count": null,
   "id": "af738253",
   "metadata": {},
   "outputs": [],
   "source": []
  }
 ],
 "metadata": {
  "kernelspec": {
   "display_name": "Python 3 (ipykernel)",
   "language": "python",
   "name": "python3"
  },
  "language_info": {
   "codemirror_mode": {
    "name": "ipython",
    "version": 3
   },
   "file_extension": ".py",
   "mimetype": "text/x-python",
   "name": "python",
   "nbconvert_exporter": "python",
   "pygments_lexer": "ipython3",
   "version": "3.9.13"
  }
 },
 "nbformat": 4,
 "nbformat_minor": 5
}
